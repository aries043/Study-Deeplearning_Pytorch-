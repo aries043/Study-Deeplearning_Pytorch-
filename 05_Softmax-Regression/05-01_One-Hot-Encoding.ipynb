{
 "cells": [
  {
   "cell_type": "markdown",
   "metadata": {},
   "source": [
    "### **One-Hot Encoding 이란?**\n"
   ]
  },
  {
   "cell_type": "markdown",
   "metadata": {},
   "source": [
    "선택해야 하는 선택지의 개수만큼 차원을 가지면서\n",
    "\n",
    "각 선택지의 인덱스에 해당하는 원소에는 1,\n",
    "\n",
    "나머지 원소에는 0의 값을 가지도록 하는 표현 방법"
   ]
  },
  {
   "cell_type": "markdown",
   "metadata": {},
   "source": [
    "예를 들어 강아지, 고양이, 냉장고의 3가지 선택지가 있음\n",
    "\n",
    "우선 각 선택지에 순차적으로 정수 인덱스를 부여해야 함"
   ]
  },
  {
   "cell_type": "markdown",
   "metadata": {},
   "source": [
    "강아지 = [1, 0, 0]\n",
    "\n",
    "고양이 = [0, 1, 0]\n",
    "\n",
    "냉장고 = [0, 0, 1]\n",
    "\n",
    "총 선택지가 3개였으므로 위 벡터들은 전부 3차원의 벡터임\n",
    "\n",
    "그리고 각 선택지의 벡터를 보면\n",
    "\n",
    "해당 선택지의 인덱스에만 1, 나머지는 0의 값을 가짐"
   ]
  },
  {
   "cell_type": "markdown",
   "metadata": {},
   "source": [
    "---\n",
    "### **One-Hot Vector의 무작위성**"
   ]
  },
  {
   "cell_type": "markdown",
   "metadata": {},
   "source": [
    "꼭 실제값을 One-Hot Vector로 표현해야만 다중 클래스 분류 문제를 풀 수 있는 건 아님\n",
    "\n",
    "하지만 대부분의 다중 클래스 분류에서 각 클래스 간의 관계가 균등하다는 점에서 이러한 점을 표현할 수 있는 적절한 표현법임"
   ]
  },
  {
   "cell_type": "markdown",
   "metadata": {},
   "source": [
    "One-Hot이 아니더라도 직관적으로 {red, green, blue} 가 있을 때 0, 1, 2와 같은 식으로 표현할 수 있음\n",
    "\n",
    "One-Hot Encoding을 사용하는 것이 더 클래스의 성질을 잘 표현했다고 할 수 있음\n",
    "\n",
    "이유는 다음 예시로 설명함"
   ]
  },
  {
   "attachments": {
    "05-01-01.png": {
     "image/png": "[encoded data removed]"
    }
   },
   "cell_type": "markdown",
   "metadata": {},
   "source": [
    "![05-01-01.png](attachment:05-01-01.png)\n",
    "\n",
    "Banana, Tomato, Apple 이라는 3개의 클래스에 1, 2, 3이라는 정수 인덱스를 부여했다고 가정\n",
    "\n",
    "위 그림과 같은 MSE를 사용하면 정수 인코딩이 오해를 불러 일으킬 수 있음\n",
    "\n",
    "직관적인 비교를 위해 평균을 구하는 수식을 제외하고 제곱 오차로만 판단해보자면\n",
    "\n",
    "실제값이 Tomato일 때, 예측값이 Banana이면\n",
    "\n",
    "(2-1)^2 = 1\n",
    "\n",
    "실제값이 Apple일 때, 예측값이 Banana이면\n",
    "\n",
    "(3-1)^2 = 4\n",
    "\n",
    "즉, Banana가 Apple보다 Tomato에 더 가깝다는 정보를 주게 됨\n",
    "\n",
    "{Banana :1, Tomato :2, Apple :3, Strawberry :4, ... Watermelon :10}\n",
    "\n",
    "즉 클래스를 더 많이 두었다고 가정했을 때\n",
    "\n",
    "Banana가 Watermelon보다는 Tomato에 더 가깝다는 정보를 주게 됨\n",
    "\n",
    "이는 필요없는 정보임"
   ]
  },
  {
   "cell_type": "markdown",
   "metadata": {},
   "source": [
    "물론 {baby, child, adolescent, adult}나 {1층, 2층, 3층, 4층}이나 {10대, 20대, 30대, 40대}\n",
    "\n",
    "와 같은 클래스 간의 관계에 차등이 있으면 도움이 되는 정보임\n",
    "\n",
    "하지만 일반적인 분류 문제에서는 필요없기 때문에 정수 인코딩을 쓸 필요없음"
   ]
  },
  {
   "cell_type": "markdown",
   "metadata": {},
   "source": [
    "이런 점을 One-Hot Encoding이 클래스의 표현 방법에 **무작위성**을 가진다고 표현함"
   ]
  }
 ],
 "metadata": {
  "language_info": {
   "name": "python"
  }
 },
 "nbformat": 4,
 "nbformat_minor": 2
}
