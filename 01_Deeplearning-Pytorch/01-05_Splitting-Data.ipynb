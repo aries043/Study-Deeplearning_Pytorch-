{
 "cells": [
  {
   "cell_type": "markdown",
   "metadata": {},
   "source": [
    "### **맷플롯립**"
   ]
  },
  {
   "cell_type": "code",
   "execution_count": null,
   "metadata": {},
   "outputs": [],
   "source": [
    "import pandas as pd\n",
    "import numpy as np\n",
    "from sklearn.model_selection import train_test_split"
   ]
  },
  {
   "cell_type": "markdown",
   "metadata": {},
   "source": [
    "--------------------------------------------------------------------------------\n",
    "### **지도학습**"
   ]
  },
  {
   "cell_type": "markdown",
   "metadata": {},
   "source": [
    "훈련 데이터 -> 문제와 정답이 엮여 있는 문제지\n",
    "\n",
    "아~ 이런 문제에 대해선 이런 게 정답이구나!\n",
    "\n",
    "테스트 데이터 -> 훈련 데이터로 훈련한 걸 시험해보자!"
   ]
  },
  {
   "cell_type": "code",
   "execution_count": 4,
   "metadata": {},
   "outputs": [
    {
     "name": "stdout",
     "output_type": "stream",
     "text": [
      "X 데이터: ('a', 'b', 'c')\n",
      "y 데이터: ('1', '2', '3')\n"
     ]
    }
   ],
   "source": [
    "# zip 함수로 X와 y 분리하기\n",
    "\n",
    "X , y = zip(['a', '1'], ['b', '2'], ['c', '3'])\n",
    "\n",
    "print('X 데이터: {}'.format(X))\n",
    "print('y 데이터: {}'.format(y))"
   ]
  },
  {
   "cell_type": "code",
   "execution_count": 6,
   "metadata": {},
   "outputs": [
    {
     "name": "stdout",
     "output_type": "stream",
     "text": [
      "X 데이터 : ('a', 'b', 'c')\n",
      "y 데이터: ('1', '2', '3')\n"
     ]
    }
   ],
   "source": [
    "# zip 함수로 2D 텐서에서 X와 y 분리하기\n",
    "\n",
    "sequence = [['a', '1'], ['b', '2'], ['c', '3']]\n",
    "X, y = zip(*sequence)\n",
    "print(\"X 데이터 : {}\".format(X))\n",
    "print('y 데이터: {}'.format(y))"
   ]
  },
  {
   "cell_type": "code",
   "execution_count": 7,
   "metadata": {},
   "outputs": [
    {
     "data": {
      "text/html": [
       "<div>\n",
       "<style scoped>\n",
       "    .dataframe tbody tr th:only-of-type {\n",
       "        vertical-align: middle;\n",
       "    }\n",
       "\n",
       "    .dataframe tbody tr th {\n",
       "        vertical-align: top;\n",
       "    }\n",
       "\n",
       "    .dataframe thead th {\n",
       "        text-align: right;\n",
       "    }\n",
       "</style>\n",
       "<table border=\"1\" class=\"dataframe\">\n",
       "  <thead>\n",
       "    <tr style=\"text-align: right;\">\n",
       "      <th></th>\n",
       "      <th>메일 본문</th>\n",
       "      <th>스팸 메일 여부</th>\n",
       "    </tr>\n",
       "  </thead>\n",
       "  <tbody>\n",
       "    <tr>\n",
       "      <th>0</th>\n",
       "      <td>당신에게 드리는 마지막 혜택!</td>\n",
       "      <td>1</td>\n",
       "    </tr>\n",
       "    <tr>\n",
       "      <th>1</th>\n",
       "      <td>내일 뵐 수 있을지 확인 부탁드...</td>\n",
       "      <td>0</td>\n",
       "    </tr>\n",
       "    <tr>\n",
       "      <th>2</th>\n",
       "      <td>도연씨. 잘 지내시죠? 오랜만입...</td>\n",
       "      <td>0</td>\n",
       "    </tr>\n",
       "    <tr>\n",
       "      <th>3</th>\n",
       "      <td>(광고) AI로 주가를 예측할 수 있다!</td>\n",
       "      <td>1</td>\n",
       "    </tr>\n",
       "  </tbody>\n",
       "</table>\n",
       "</div>"
      ],
      "text/plain": [
       "                    메일 본문  스팸 메일 여부\n",
       "0        당신에게 드리는 마지막 혜택!         1\n",
       "1    내일 뵐 수 있을지 확인 부탁드...         0\n",
       "2    도연씨. 잘 지내시죠? 오랜만입...         0\n",
       "3  (광고) AI로 주가를 예측할 수 있다!         1"
      ]
     },
     "execution_count": 7,
     "metadata": {},
     "output_type": "execute_result"
    }
   ],
   "source": [
    "# 데이터프레임을 이용하여 분리하기\n",
    "\n",
    "values = [['당신에게 드리는 마지막 혜택!', 1], # 0은 정상 메일, 1은 스팸 메일\n",
    "['내일 뵐 수 있을지 확인 부탁드...', 0],\n",
    "['도연씨. 잘 지내시죠? 오랜만입...', 0],\n",
    "['(광고) AI로 주가를 예측할 수 있다!', 1]]\n",
    "\n",
    "columns = ['메일 본문', '스팸 메일 여부']\n",
    "\n",
    "df = pd.DataFrame(values, columns=columns)\n",
    "df"
   ]
  },
  {
   "cell_type": "code",
   "execution_count": 9,
   "metadata": {},
   "outputs": [
    {
     "name": "stdout",
     "output_type": "stream",
     "text": [
      "X 데이터 : ['당신에게 드리는 마지막 혜택!', '내일 뵐 수 있을지 확인 부탁드...', '도연씨. 잘 지내시죠? 오랜만입...', '(광고) AI로 주가를 예측할 수 있다!']\n",
      "y 데이터: [1, 0, 0, 1]\n"
     ]
    }
   ],
   "source": [
    "X = df['메일 본문']\n",
    "y = df['스팸 메일 여부']\n",
    "\n",
    "print(\"X 데이터 : {}\".format(X.to_list()))\n",
    "print('y 데이터: {}'.format(y.to_list()))"
   ]
  },
  {
   "cell_type": "code",
   "execution_count": 13,
   "metadata": {},
   "outputs": [
    {
     "name": "stdout",
     "output_type": "stream",
     "text": [
      "전체 데이터: \n",
      "[[ 0  1  2  3]\n",
      " [ 4  5  6  7]\n",
      " [ 8  9 10 11]\n",
      " [12 13 14 15]]\n",
      "------------------------------\n",
      "X 데이터 : [[ 0  1  2]\n",
      " [ 4  5  6]\n",
      " [ 8  9 10]\n",
      " [12 13 14]]\n",
      "y 데이터: [ 3  7 11 15]\n"
     ]
    }
   ],
   "source": [
    "# Numpy를 이용하여 분리하기\n",
    "\n",
    "np_array = np.arange(0, 16).reshape((4,4))\n",
    "print(\"전체 데이터: \")\n",
    "print(np_array)\n",
    "\n",
    "X = np_array[:, :3]\n",
    "y = np_array[:, 3]\n",
    "print('-'*30)\n",
    "\n",
    "print(\"X 데이터 : \")\n",
    "print(\"{}\".format(X))\n",
    "print(\"y 데이터 : \")\n",
    "print(\"{}\".format(y))"
   ]
  },
  {
   "cell_type": "markdown",
   "metadata": {},
   "source": [
    "--------------------------------------------------------------------------------\n",
    "### **테스트 데이터 분리하기**"
   ]
  },
  {
   "cell_type": "code",
   "execution_count": null,
   "metadata": {},
   "outputs": [],
   "source": [
    "# 사이킷런을 이용해 분리하기\n",
    "\n",
    "# 예시) X : 독립 변수 데이터, y : 종속 변수 데이터, test_size : 테스트트 데이터 비율, random_state : 난수 시드\n",
    "X_train, X_test, Y_train, Y_test = train_test_split(X, y, test_size=0.2, random_state=1234)"
   ]
  },
  {
   "cell_type": "code",
   "execution_count": 19,
   "metadata": {},
   "outputs": [
    {
     "name": "stdout",
     "output_type": "stream",
     "text": [
      "X 데이터 : \n",
      "[[0 1]\n",
      " [2 3]\n",
      " [4 5]\n",
      " [6 7]\n",
      " [8 9]]\n",
      "y 데이터 : \n",
      "[0, 1, 2, 3, 4]\n"
     ]
    }
   ],
   "source": [
    "# 임의의 X, y 데이터\n",
    "\n",
    "X, y = np.arange(10).reshape((5, 2)), range(5)\n",
    "\n",
    "print(\"X 데이터 : \")\n",
    "print(\"{}\".format(X))\n",
    "print(\"y 데이터 : \")\n",
    "print(\"{}\".format(list(y)))"
   ]
  },
  {
   "cell_type": "code",
   "execution_count": 24,
   "metadata": {},
   "outputs": [
    {
     "name": "stdout",
     "output_type": "stream",
     "text": [
      "X 훈련 데이터 : \n",
      "[[0 1]\n",
      " [2 3]\n",
      " [4 5]\n",
      " [6 7]]\n",
      "X 테스트 데이터 : \n",
      "[[8 9]]\n",
      "------------------------------\n",
      "y 훈련 데이터 : \n",
      "[0, 1, 2, 3]\n",
      "y 테스트 데이터 : \n",
      "[4]\n"
     ]
    }
   ],
   "source": [
    "# 7:3 비율로 훈련 데이터와 테스트 데이터 분리\n",
    "\n",
    "X_train, X_test, y_train, y_test = train_test_split(X, y, test_size=0.2, random_state=1234)\n",
    "\n",
    "print('X 훈련 데이터 : ')\n",
    "print(X_train)\n",
    "print('X 테스트 데이터 : ')\n",
    "print(X_test)\n",
    "print('-' * 30)\n",
    "print('y 훈련 데이터 : ')\n",
    "print(y_train)\n",
    "print('y 테스트 데이터 : ')\n",
    "print(y_test)"
   ]
  },
  {
   "cell_type": "code",
   "execution_count": 25,
   "metadata": {},
   "outputs": [
    {
     "name": "stdout",
     "output_type": "stream",
     "text": [
      "y 훈련 데이터 :\n",
      "[4, 0, 3]\n",
      "y 테스트 데이터 :\n",
      "[2, 1]\n"
     ]
    }
   ],
   "source": [
    "# random_state의 값을 변경\n",
    "# random_state에 따라 데이터가 다른 순서로 섞임임\n",
    "X_train, X_test, y_train, y_test = train_test_split(X, y, test_size=0.3, random_state=1)\n",
    "\n",
    "print('y 훈련 데이터 :')\n",
    "print(y_train)\n",
    "print('y 테스트 데이터 :')\n",
    "print(y_test)"
   ]
  },
  {
   "cell_type": "code",
   "execution_count": 26,
   "metadata": {},
   "outputs": [
    {
     "name": "stdout",
     "output_type": "stream",
     "text": [
      "X 데이터 : \n",
      "[[ 0  1]\n",
      " [ 2  3]\n",
      " [ 4  5]\n",
      " [ 6  7]\n",
      " [ 8  9]\n",
      " [10 11]\n",
      " [12 13]\n",
      " [14 15]\n",
      " [16 17]\n",
      " [18 19]\n",
      " [20 21]\n",
      " [22 23]]\n",
      "y 데이터 : \n",
      "[0, 1, 2, 3, 4, 5, 6, 7, 8, 9, 10, 11]\n"
     ]
    }
   ],
   "source": [
    "# 실습을 위한 임의의 데이터 생성\n",
    "\n",
    "X, y = np.arange(0, 24).reshape((12, 2)), range(12)\n",
    "\n",
    "print(\"X 데이터 : \")\n",
    "print(\"{}\".format(X))\n",
    "print(\"y 데이터 : \")\n",
    "print(\"{}\".format(list(y)))"
   ]
  },
  {
   "cell_type": "code",
   "execution_count": 34,
   "metadata": {},
   "outputs": [
    {
     "name": "stdout",
     "output_type": "stream",
     "text": [
      "훈련 데이터의 크기:  9\n",
      "테스트 데이터의 크기:  3\n",
      "X 훈련 데이터 :\n",
      "[[ 0  1]\n",
      " [ 2  3]\n",
      " [ 4  5]\n",
      " [ 6  7]\n",
      " [ 8  9]\n",
      " [10 11]\n",
      " [12 13]\n",
      " [14 15]\n",
      " [16 17]]\n",
      "y 훈련 데이터 :\n",
      "[0, 1, 2, 3, 4, 5, 6, 7, 8]\n",
      "------------------------------\n",
      "X 테스트 데이터 :\n",
      "[[18 19]\n",
      " [20 21]\n",
      " [22 23]]\n",
      "y 테스트 데이터 :\n",
      "[9, 10, 11]\n"
     ]
    }
   ],
   "source": [
    "# 임의로 훈련 데이터와 테스트 데이터의 개수 정하기\n",
    "\n",
    "num_of_train = int(len(X) * 0.8)\n",
    "num_of_test = int(len(X) - num_of_train)\n",
    "\n",
    "print(\"훈련 데이터의 크기: \", num_of_train)\n",
    "print(\"테스트 데이터의 크기: \", num_of_test)\n",
    "\n",
    "# 하나의 변수만 사용해서 나눠야 데이터의 누락을 방지할 수 있음음\n",
    "\n",
    "X_test = X[num_of_train:]\n",
    "y_test = y[num_of_train:]\n",
    "X_train = X[:num_of_train]\n",
    "y_train = y[:num_of_train]\n",
    "\n",
    "print('X 훈련 데이터 :')\n",
    "print(X_train)\n",
    "print('y 훈련 데이터 :')\n",
    "print(list(y_train))\n",
    "print('-'*30)\n",
    "print('X 테스트 데이터 :')\n",
    "print(X_test)\n",
    "print('y 테스트 데이터 :')\n",
    "print(list(y_test))"
   ]
  },
  {
   "cell_type": "code",
   "execution_count": null,
   "metadata": {},
   "outputs": [],
   "source": []
  }
 ],
 "metadata": {
  "kernelspec": {
   "display_name": "deeplearning_pytorch",
   "language": "python",
   "name": "python3"
  },
  "language_info": {
   "codemirror_mode": {
    "name": "ipython",
    "version": 3
   },
   "file_extension": ".py",
   "mimetype": "text/x-python",
   "name": "python",
   "nbconvert_exporter": "python",
   "pygments_lexer": "ipython3",
   "version": "3.8.8"
  }
 },
 "nbformat": 4,
 "nbformat_minor": 2
}
